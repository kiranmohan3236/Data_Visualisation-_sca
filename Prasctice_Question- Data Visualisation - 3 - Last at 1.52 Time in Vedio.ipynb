{
  "nbformat": 4,
  "nbformat_minor": 0,
  "metadata": {
    "colab": {
      "provenance": [],
      "include_colab_link": true
    },
    "kernelspec": {
      "name": "python3",
      "display_name": "Python 3"
    },
    "language_info": {
      "name": "python"
    }
  },
  "cells": [
    {
      "cell_type": "markdown",
      "metadata": {
        "id": "view-in-github",
        "colab_type": "text"
      },
      "source": [
        "<a href=\"https://colab.research.google.com/github/kiranmohan3236/Data_Visualisation-_sca/blob/main/Prasctice_Question-%20Data%20Visualisation%20-%203%20-%20Last%20at%201.52%20Time%20in%20Vedio.ipynb\" target=\"_parent\"><img src=\"https://colab.research.google.com/assets/colab-badge.svg\" alt=\"Open In Colab\"/></a>"
      ]
    },
    {
      "cell_type": "code",
      "source": [
        "!wget https://raw.githubusercontent.com/datasciencedojo/datasets/master/titanic.csv"
      ],
      "metadata": {
        "id": "m3Abd06kP8j8"
      },
      "execution_count": null,
      "outputs": []
    },
    {
      "cell_type": "code",
      "source": [
        "Question: What is the distribution of passenger ages on the Titanic?\n",
        "import seaborn as sns\n",
        "import matplotlib.pyplot as plt\n",
        "\n",
        "# Load the dataset\n",
        "# df = pd.read_csv('titanic.csv')\n",
        "\n",
        "# Univariate analysis - Age distribution\n",
        "plt.figure(figsize=(10, 6))\n",
        "sns.histplot(df['Age'].dropna(), bins=30, kde=True, color='skyblue')\n",
        "plt.title('Distribution of Ages Among Passengers')\n",
        "plt.xlabel('Age')\n",
        "plt.ylabel('Frequency')\n",
        "plt.show()\n"
      ],
      "metadata": {
        "id": "bNk8ycr1NSAh"
      },
      "execution_count": null,
      "outputs": []
    },
    {
      "cell_type": "code",
      "source": [
        "Question: How is the gender distribution among Titanic passengers?\n",
        "# Univariate analysis - Gender distribution\n",
        "plt.figure(figsize=(8, 5))\n",
        "sns.countplot(x='Sex', data=df, palette='Set2')\n",
        "plt.title('Gender Distribution Among Passengers')\n",
        "plt.xlabel('Gender')\n",
        "plt.ylabel('Count')\n",
        "plt.show()\n"
      ],
      "metadata": {
        "id": "wA49x0PRNSMD"
      },
      "execution_count": null,
      "outputs": []
    },
    {
      "cell_type": "code",
      "source": [
        "Question: What is the distribution of passenger classes (Pclass) on the Titanic?\n",
        "# Univariate analysis - Passenger class distribution\n",
        "plt.figure(figsize=(8, 5))\n",
        "sns.countplot(x='Pclass', data=df, palette='pastel')\n",
        "plt.title('Distribution of Passenger Classes')\n",
        "plt.xlabel('Passenger Class')\n",
        "plt.ylabel('Count')\n",
        "plt.show()\n"
      ],
      "metadata": {
        "id": "-Goy5BqXNcZH"
      },
      "execution_count": null,
      "outputs": []
    },
    {
      "cell_type": "code",
      "source": [],
      "metadata": {
        "id": "NQGUyIsWNfEF"
      },
      "execution_count": null,
      "outputs": []
    },
    {
      "cell_type": "markdown",
      "source": [
        "Bivariate Analysis:\n",
        "Question: How does the survival rate vary with passenger class?"
      ],
      "metadata": {
        "id": "2Sik0EFzNgl4"
      }
    },
    {
      "cell_type": "code",
      "source": [
        "# Bivariate analysis - Survival rate vs. Passenger Class\n",
        "plt.figure(figsize=(10, 6))\n",
        "sns.countplot(x='Pclass', hue='Survived', data=df, palette='pastel')\n",
        "plt.title('Survival Count by Passenger Class')\n",
        "plt.xlabel('Passenger Class')\n",
        "plt.ylabel('Count')\n",
        "plt.legend(title='Survived', loc='upper right', labels=['No', 'Yes'])\n",
        "plt.show()\n"
      ],
      "metadata": {
        "id": "pJkQc3KNNiG6"
      },
      "execution_count": null,
      "outputs": []
    },
    {
      "cell_type": "code",
      "source": [
        "Question: Is there a correlation between age and fare paid by passengers?\n",
        "# Bivariate analysis - Correlation between Age and Fare\n",
        "plt.figure(figsize=(10, 6))\n",
        "sns.scatterplot(x='Age', y='Fare', data=df, color='coral')\n",
        "plt.title('Correlation between Age and Fare')\n",
        "plt.xlabel('Age')\n",
        "plt.ylabel('Fare')\n",
        "plt.show()\n"
      ],
      "metadata": {
        "id": "wROrQNraNjfK"
      },
      "execution_count": null,
      "outputs": []
    },
    {
      "cell_type": "code",
      "source": [
        "Question: How does the survival rate vary based on gender?\n",
        "# Bivariate analysis - Survival rate vs. Gender\n",
        "plt.figure(figsize=(8, 5))\n",
        "sns.countplot(x='Sex', hue='Survived', data=df, palette='Set2')\n",
        "plt.title('Survival Count by Gender')\n",
        "plt.xlabel('Gender')\n",
        "plt.ylabel('Count')\n",
        "plt.legend(title='Survived', loc='upper right', labels=['No', 'Yes'])\n",
        "plt.show()\n"
      ],
      "metadata": {
        "id": "wHAZOeVpNlg7"
      },
      "execution_count": null,
      "outputs": []
    },
    {
      "cell_type": "markdown",
      "source": [
        "Multivariate Analysis:\n",
        "Question: How does passenger age, fare, and class contribute to the survival status?"
      ],
      "metadata": {
        "id": "28PBfTgzNpof"
      }
    },
    {
      "cell_type": "code",
      "source": [
        "# Multivariate analysis - Age, Fare, and Survival status\n",
        "plt.figure(figsize=(12, 8))\n",
        "scatter = sns.scatterplot(x='Age', y='Fare', hue='Survived', data=df, palette='coolwarm', size='Pclass', sizes=(10, 200))\n",
        "scatter.set_title('Age, Fare, and Survival Status by Passenger Class')\n",
        "plt.show()\n"
      ],
      "metadata": {
        "id": "Va3X_DSZNqgQ"
      },
      "execution_count": null,
      "outputs": []
    },
    {
      "cell_type": "code",
      "source": [
        "Question: What is the relationship between age, fare, and the number of siblings/spouses (SibSp)?\n",
        "# Multivariate analysis - Age, Fare, and Siblings/Spouses\n",
        "plt.figure(figsize=(12, 8))\n",
        "scatter = sns.scatterplot(x='Age', y='Fare', hue='SibSp', data=df, palette='viridis', size='SibSp', sizes=(10, 200))\n",
        "scatter.set_title('Age, Fare, and Siblings/Spouses')\n",
        "plt.show()\n"
      ],
      "metadata": {
        "id": "1qtDJU19NtIE"
      },
      "execution_count": null,
      "outputs": []
    },
    {
      "cell_type": "code",
      "source": [
        "Question: How does passenger age, fare, and gender contribute to the survival status?\n",
        "# Multivariate analysis - Age, Fare, and Survival status by Gender\n",
        "plt.figure(figsize=(12, 8))\n",
        "scatter = sns.scatterplot(x='Age', y='Fare', hue='Survived', data=df, style='Sex', palette='coolwarm', markers=['o', 's'])\n",
        "scatter.set_title('Age, Fare, and Survival Status by Gender')\n",
        "plt.show()\n"
      ],
      "metadata": {
        "id": "Hvxl8aeHNvug"
      },
      "execution_count": null,
      "outputs": []
    },
    {
      "cell_type": "code",
      "source": [],
      "metadata": {
        "id": "84LP72KVPUh2"
      },
      "execution_count": null,
      "outputs": []
    },
    {
      "cell_type": "code",
      "source": [],
      "metadata": {
        "id": "s4nI6JSkPUql"
      },
      "execution_count": null,
      "outputs": []
    },
    {
      "cell_type": "code",
      "source": [],
      "metadata": {
        "id": "Qdaiy-SzPUtY"
      },
      "execution_count": null,
      "outputs": []
    },
    {
      "cell_type": "code",
      "source": [],
      "metadata": {
        "id": "JETv3VzJPUwV"
      },
      "execution_count": null,
      "outputs": []
    },
    {
      "cell_type": "code",
      "source": [],
      "metadata": {
        "id": "aYaiaQ7wPUzL"
      },
      "execution_count": null,
      "outputs": []
    },
    {
      "cell_type": "code",
      "source": [],
      "metadata": {
        "id": "byAOEaplPU2a"
      },
      "execution_count": null,
      "outputs": []
    },
    {
      "cell_type": "code",
      "source": [],
      "metadata": {
        "id": "CevNtjeyPU5b"
      },
      "execution_count": null,
      "outputs": []
    },
    {
      "cell_type": "code",
      "source": [
        "Question: What is the distribution of passenger ages on the Titanic?\n",
        "Question: How is the gender distribution among Titanic passengers?\n",
        "Question: What is the distribution of passenger classes (Pclass) on the Titanic?\n",
        "Question: How does the survival rate vary with passenger class?\n",
        "Question: Is there a correlation between age and fare paid by passengers?\n",
        "Question: How does the survival rate vary based on gender?\n",
        "Question: How does passenger age, fare, and class contribute to the survival status?\n",
        "Question: What is the relationship between age, fare, and the number of siblings/spouses (SibSp)?\n",
        "Question: How does passenger age, fare, and gender contribute to the survival status?\n"
      ],
      "metadata": {
        "id": "E6sKxQMlPU8j"
      },
      "execution_count": null,
      "outputs": []
    },
    {
      "cell_type": "code",
      "source": [],
      "metadata": {
        "id": "BEZGWZ5yPU-_"
      },
      "execution_count": null,
      "outputs": []
    }
  ]
}